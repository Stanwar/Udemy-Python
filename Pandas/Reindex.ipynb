{
 "cells": [
  {
   "cell_type": "code",
   "execution_count": 1,
   "metadata": {
    "collapsed": true
   },
   "outputs": [],
   "source": [
    "import numpy as np \n",
    "import pandas as pd\n",
    "\n",
    "from pandas import Series, DataFrame"
   ]
  },
  {
   "cell_type": "code",
   "execution_count": 3,
   "metadata": {
    "collapsed": true
   },
   "outputs": [],
   "source": [
    "## Random Number\n",
    "from numpy.random import randn"
   ]
  },
  {
   "cell_type": "code",
   "execution_count": 4,
   "metadata": {
    "collapsed": true
   },
   "outputs": [],
   "source": [
    " ser1 = Series([1,2,3,4], index = ['A','B','C','D'])"
   ]
  },
  {
   "cell_type": "code",
   "execution_count": 5,
   "metadata": {
    "collapsed": false
   },
   "outputs": [
    {
     "data": {
      "text/plain": [
       "A    1\n",
       "B    2\n",
       "C    3\n",
       "D    4\n",
       "dtype: int64"
      ]
     },
     "execution_count": 5,
     "metadata": {},
     "output_type": "execute_result"
    }
   ],
   "source": [
    "ser1"
   ]
  },
  {
   "cell_type": "code",
   "execution_count": 6,
   "metadata": {
    "collapsed": false
   },
   "outputs": [
    {
     "data": {
      "text/plain": [
       "A     1\n",
       "B     2\n",
       "C     3\n",
       "D     4\n",
       "E   NaN\n",
       "F   NaN\n",
       "dtype: float64"
      ]
     },
     "execution_count": 6,
     "metadata": {},
     "output_type": "execute_result"
    }
   ],
   "source": [
    "ser2 = ser1.reindex(['A','B','C','D','E','F'])\n",
    "\n",
    "ser2"
   ]
  },
  {
   "cell_type": "code",
   "execution_count": 14,
   "metadata": {
    "collapsed": false
   },
   "outputs": [
    {
     "data": {
      "text/plain": [
       "A     1\n",
       "B     2\n",
       "C     3\n",
       "D     4\n",
       "E   NaN\n",
       "F   NaN\n",
       "dtype: float64"
      ]
     },
     "execution_count": 14,
     "metadata": {},
     "output_type": "execute_result"
    }
   ],
   "source": [
    "ser2.reindex(['A','B','C','D','E','F','G'],fill_value=0)\n",
    "\n",
    "ser2"
   ]
  },
  {
   "cell_type": "code",
   "execution_count": 15,
   "metadata": {
    "collapsed": false
   },
   "outputs": [
    {
     "data": {
      "text/plain": [
       "A     1\n",
       "B     2\n",
       "C     3\n",
       "D     4\n",
       "E   NaN\n",
       "F   NaN\n",
       "dtype: float64"
      ]
     },
     "execution_count": 15,
     "metadata": {},
     "output_type": "execute_result"
    }
   ],
   "source": [
    "ser2"
   ]
  },
  {
   "cell_type": "code",
   "execution_count": 16,
   "metadata": {
    "collapsed": true
   },
   "outputs": [],
   "source": [
    "ser3 = Series(['USA','Mexico','Germany'],index=[0,5,10])"
   ]
  },
  {
   "cell_type": "code",
   "execution_count": 17,
   "metadata": {
    "collapsed": false
   },
   "outputs": [
    {
     "data": {
      "text/plain": [
       "0         USA\n",
       "5      Mexico\n",
       "10    Germany\n",
       "dtype: object"
      ]
     },
     "execution_count": 17,
     "metadata": {},
     "output_type": "execute_result"
    }
   ],
   "source": [
    "ser3"
   ]
  },
  {
   "cell_type": "code",
   "execution_count": 19,
   "metadata": {
    "collapsed": false
   },
   "outputs": [],
   "source": [
    "ranger = range(15)"
   ]
  },
  {
   "cell_type": "code",
   "execution_count": 20,
   "metadata": {
    "collapsed": false
   },
   "outputs": [
    {
     "data": {
      "text/plain": [
       "[0, 1, 2, 3, 4, 5, 6, 7, 8, 9, 10, 11, 12, 13, 14]"
      ]
     },
     "execution_count": 20,
     "metadata": {},
     "output_type": "execute_result"
    }
   ],
   "source": [
    "ranger"
   ]
  },
  {
   "cell_type": "code",
   "execution_count": 22,
   "metadata": {
    "collapsed": false
   },
   "outputs": [
    {
     "data": {
      "text/plain": [
       "0         USA\n",
       "1         USA\n",
       "2         USA\n",
       "3         USA\n",
       "4         USA\n",
       "5      Mexico\n",
       "6      Mexico\n",
       "7      Mexico\n",
       "8      Mexico\n",
       "9      Mexico\n",
       "10    Germany\n",
       "11    Germany\n",
       "12    Germany\n",
       "13    Germany\n",
       "14    Germany\n",
       "dtype: object"
      ]
     },
     "execution_count": 22,
     "metadata": {},
     "output_type": "execute_result"
    }
   ],
   "source": [
    "## Forward Fill \n",
    "\n",
    "ser3.reindex(ranger,method='ffill')"
   ]
  },
  {
   "cell_type": "code",
   "execution_count": 23,
   "metadata": {
    "collapsed": false
   },
   "outputs": [
    {
     "data": {
      "text/html": [
       "<div>\n",
       "<table border=\"1\" class=\"dataframe\">\n",
       "  <thead>\n",
       "    <tr style=\"text-align: right;\">\n",
       "      <th></th>\n",
       "      <th>col1</th>\n",
       "      <th>col2</th>\n",
       "      <th>col3</th>\n",
       "      <th>col4</th>\n",
       "      <th>col5</th>\n",
       "    </tr>\n",
       "  </thead>\n",
       "  <tbody>\n",
       "    <tr>\n",
       "      <th>A</th>\n",
       "      <td>-0.032142</td>\n",
       "      <td>0.589605</td>\n",
       "      <td>-0.224599</td>\n",
       "      <td>0.321748</td>\n",
       "      <td>1.120050</td>\n",
       "    </tr>\n",
       "    <tr>\n",
       "      <th>B</th>\n",
       "      <td>-2.676250</td>\n",
       "      <td>1.266772</td>\n",
       "      <td>1.733482</td>\n",
       "      <td>-1.205823</td>\n",
       "      <td>-2.233132</td>\n",
       "    </tr>\n",
       "    <tr>\n",
       "      <th>D</th>\n",
       "      <td>-1.117618</td>\n",
       "      <td>0.368367</td>\n",
       "      <td>1.227056</td>\n",
       "      <td>1.298034</td>\n",
       "      <td>1.017213</td>\n",
       "    </tr>\n",
       "    <tr>\n",
       "      <th>E</th>\n",
       "      <td>0.341963</td>\n",
       "      <td>0.784688</td>\n",
       "      <td>-0.731119</td>\n",
       "      <td>-0.930502</td>\n",
       "      <td>0.543056</td>\n",
       "    </tr>\n",
       "    <tr>\n",
       "      <th>F</th>\n",
       "      <td>-0.214582</td>\n",
       "      <td>-0.486776</td>\n",
       "      <td>-0.430250</td>\n",
       "      <td>2.282368</td>\n",
       "      <td>-0.951841</td>\n",
       "    </tr>\n",
       "  </tbody>\n",
       "</table>\n",
       "</div>"
      ],
      "text/plain": [
       "       col1      col2      col3      col4      col5\n",
       "A -0.032142  0.589605 -0.224599  0.321748  1.120050\n",
       "B -2.676250  1.266772  1.733482 -1.205823 -2.233132\n",
       "D -1.117618  0.368367  1.227056  1.298034  1.017213\n",
       "E  0.341963  0.784688 -0.731119 -0.930502  0.543056\n",
       "F -0.214582 -0.486776 -0.430250  2.282368 -0.951841"
      ]
     },
     "execution_count": 23,
     "metadata": {},
     "output_type": "execute_result"
    }
   ],
   "source": [
    "dFrame = DataFrame(randn(25).reshape((5,5)),index=['A','B','D','E','F'],\n",
    "                  columns = ['col1','col2','col3','col4','col5'])\n",
    "\n",
    "dFrame"
   ]
  },
  {
   "cell_type": "code",
   "execution_count": 24,
   "metadata": {
    "collapsed": false
   },
   "outputs": [
    {
     "data": {
      "text/html": [
       "<div>\n",
       "<table border=\"1\" class=\"dataframe\">\n",
       "  <thead>\n",
       "    <tr style=\"text-align: right;\">\n",
       "      <th></th>\n",
       "      <th>col1</th>\n",
       "      <th>col2</th>\n",
       "      <th>col3</th>\n",
       "      <th>col4</th>\n",
       "      <th>col5</th>\n",
       "    </tr>\n",
       "  </thead>\n",
       "  <tbody>\n",
       "    <tr>\n",
       "      <th>A</th>\n",
       "      <td>-0.032142</td>\n",
       "      <td>0.589605</td>\n",
       "      <td>-0.224599</td>\n",
       "      <td>0.321748</td>\n",
       "      <td>1.120050</td>\n",
       "    </tr>\n",
       "    <tr>\n",
       "      <th>B</th>\n",
       "      <td>-2.676250</td>\n",
       "      <td>1.266772</td>\n",
       "      <td>1.733482</td>\n",
       "      <td>-1.205823</td>\n",
       "      <td>-2.233132</td>\n",
       "    </tr>\n",
       "    <tr>\n",
       "      <th>C</th>\n",
       "      <td>NaN</td>\n",
       "      <td>NaN</td>\n",
       "      <td>NaN</td>\n",
       "      <td>NaN</td>\n",
       "      <td>NaN</td>\n",
       "    </tr>\n",
       "    <tr>\n",
       "      <th>D</th>\n",
       "      <td>-1.117618</td>\n",
       "      <td>0.368367</td>\n",
       "      <td>1.227056</td>\n",
       "      <td>1.298034</td>\n",
       "      <td>1.017213</td>\n",
       "    </tr>\n",
       "    <tr>\n",
       "      <th>E</th>\n",
       "      <td>0.341963</td>\n",
       "      <td>0.784688</td>\n",
       "      <td>-0.731119</td>\n",
       "      <td>-0.930502</td>\n",
       "      <td>0.543056</td>\n",
       "    </tr>\n",
       "    <tr>\n",
       "      <th>F</th>\n",
       "      <td>-0.214582</td>\n",
       "      <td>-0.486776</td>\n",
       "      <td>-0.430250</td>\n",
       "      <td>2.282368</td>\n",
       "      <td>-0.951841</td>\n",
       "    </tr>\n",
       "  </tbody>\n",
       "</table>\n",
       "</div>"
      ],
      "text/plain": [
       "       col1      col2      col3      col4      col5\n",
       "A -0.032142  0.589605 -0.224599  0.321748  1.120050\n",
       "B -2.676250  1.266772  1.733482 -1.205823 -2.233132\n",
       "C       NaN       NaN       NaN       NaN       NaN\n",
       "D -1.117618  0.368367  1.227056  1.298034  1.017213\n",
       "E  0.341963  0.784688 -0.731119 -0.930502  0.543056\n",
       "F -0.214582 -0.486776 -0.430250  2.282368 -0.951841"
      ]
     },
     "execution_count": 24,
     "metadata": {},
     "output_type": "execute_result"
    }
   ],
   "source": [
    "dFrame2 = dFrame.reindex(['A','B','C','D','E','F'])\n",
    "\n",
    "dFrame2"
   ]
  },
  {
   "cell_type": "code",
   "execution_count": 25,
   "metadata": {
    "collapsed": true
   },
   "outputs": [],
   "source": [
    "dFrame2 = dFrame.reindex(['A','B','C','D','E','F'],fill_value=0)"
   ]
  },
  {
   "cell_type": "code",
   "execution_count": 26,
   "metadata": {
    "collapsed": false
   },
   "outputs": [
    {
     "data": {
      "text/html": [
       "<div>\n",
       "<table border=\"1\" class=\"dataframe\">\n",
       "  <thead>\n",
       "    <tr style=\"text-align: right;\">\n",
       "      <th></th>\n",
       "      <th>col1</th>\n",
       "      <th>col2</th>\n",
       "      <th>col3</th>\n",
       "      <th>col4</th>\n",
       "      <th>col5</th>\n",
       "    </tr>\n",
       "  </thead>\n",
       "  <tbody>\n",
       "    <tr>\n",
       "      <th>A</th>\n",
       "      <td>-0.032142</td>\n",
       "      <td>0.589605</td>\n",
       "      <td>-0.224599</td>\n",
       "      <td>0.321748</td>\n",
       "      <td>1.120050</td>\n",
       "    </tr>\n",
       "    <tr>\n",
       "      <th>B</th>\n",
       "      <td>-2.676250</td>\n",
       "      <td>1.266772</td>\n",
       "      <td>1.733482</td>\n",
       "      <td>-1.205823</td>\n",
       "      <td>-2.233132</td>\n",
       "    </tr>\n",
       "    <tr>\n",
       "      <th>C</th>\n",
       "      <td>0.000000</td>\n",
       "      <td>0.000000</td>\n",
       "      <td>0.000000</td>\n",
       "      <td>0.000000</td>\n",
       "      <td>0.000000</td>\n",
       "    </tr>\n",
       "    <tr>\n",
       "      <th>D</th>\n",
       "      <td>-1.117618</td>\n",
       "      <td>0.368367</td>\n",
       "      <td>1.227056</td>\n",
       "      <td>1.298034</td>\n",
       "      <td>1.017213</td>\n",
       "    </tr>\n",
       "    <tr>\n",
       "      <th>E</th>\n",
       "      <td>0.341963</td>\n",
       "      <td>0.784688</td>\n",
       "      <td>-0.731119</td>\n",
       "      <td>-0.930502</td>\n",
       "      <td>0.543056</td>\n",
       "    </tr>\n",
       "    <tr>\n",
       "      <th>F</th>\n",
       "      <td>-0.214582</td>\n",
       "      <td>-0.486776</td>\n",
       "      <td>-0.430250</td>\n",
       "      <td>2.282368</td>\n",
       "      <td>-0.951841</td>\n",
       "    </tr>\n",
       "  </tbody>\n",
       "</table>\n",
       "</div>"
      ],
      "text/plain": [
       "       col1      col2      col3      col4      col5\n",
       "A -0.032142  0.589605 -0.224599  0.321748  1.120050\n",
       "B -2.676250  1.266772  1.733482 -1.205823 -2.233132\n",
       "C  0.000000  0.000000  0.000000  0.000000  0.000000\n",
       "D -1.117618  0.368367  1.227056  1.298034  1.017213\n",
       "E  0.341963  0.784688 -0.731119 -0.930502  0.543056\n",
       "F -0.214582 -0.486776 -0.430250  2.282368 -0.951841"
      ]
     },
     "execution_count": 26,
     "metadata": {},
     "output_type": "execute_result"
    }
   ],
   "source": [
    "dFrame2"
   ]
  },
  {
   "cell_type": "code",
   "execution_count": 27,
   "metadata": {
    "collapsed": true
   },
   "outputs": [],
   "source": [
    "new_columns = ['col1','col2','col3','col4','col5','col6']"
   ]
  },
  {
   "cell_type": "code",
   "execution_count": 28,
   "metadata": {
    "collapsed": false
   },
   "outputs": [
    {
     "data": {
      "text/html": [
       "<div>\n",
       "<table border=\"1\" class=\"dataframe\">\n",
       "  <thead>\n",
       "    <tr style=\"text-align: right;\">\n",
       "      <th></th>\n",
       "      <th>col1</th>\n",
       "      <th>col2</th>\n",
       "      <th>col3</th>\n",
       "      <th>col4</th>\n",
       "      <th>col5</th>\n",
       "      <th>col6</th>\n",
       "    </tr>\n",
       "  </thead>\n",
       "  <tbody>\n",
       "    <tr>\n",
       "      <th>A</th>\n",
       "      <td>-0.032142</td>\n",
       "      <td>0.589605</td>\n",
       "      <td>-0.224599</td>\n",
       "      <td>0.321748</td>\n",
       "      <td>1.120050</td>\n",
       "      <td>0</td>\n",
       "    </tr>\n",
       "    <tr>\n",
       "      <th>B</th>\n",
       "      <td>-2.676250</td>\n",
       "      <td>1.266772</td>\n",
       "      <td>1.733482</td>\n",
       "      <td>-1.205823</td>\n",
       "      <td>-2.233132</td>\n",
       "      <td>0</td>\n",
       "    </tr>\n",
       "    <tr>\n",
       "      <th>C</th>\n",
       "      <td>0.000000</td>\n",
       "      <td>0.000000</td>\n",
       "      <td>0.000000</td>\n",
       "      <td>0.000000</td>\n",
       "      <td>0.000000</td>\n",
       "      <td>0</td>\n",
       "    </tr>\n",
       "    <tr>\n",
       "      <th>D</th>\n",
       "      <td>-1.117618</td>\n",
       "      <td>0.368367</td>\n",
       "      <td>1.227056</td>\n",
       "      <td>1.298034</td>\n",
       "      <td>1.017213</td>\n",
       "      <td>0</td>\n",
       "    </tr>\n",
       "    <tr>\n",
       "      <th>E</th>\n",
       "      <td>0.341963</td>\n",
       "      <td>0.784688</td>\n",
       "      <td>-0.731119</td>\n",
       "      <td>-0.930502</td>\n",
       "      <td>0.543056</td>\n",
       "      <td>0</td>\n",
       "    </tr>\n",
       "    <tr>\n",
       "      <th>F</th>\n",
       "      <td>-0.214582</td>\n",
       "      <td>-0.486776</td>\n",
       "      <td>-0.430250</td>\n",
       "      <td>2.282368</td>\n",
       "      <td>-0.951841</td>\n",
       "      <td>0</td>\n",
       "    </tr>\n",
       "  </tbody>\n",
       "</table>\n",
       "</div>"
      ],
      "text/plain": [
       "       col1      col2      col3      col4      col5  col6\n",
       "A -0.032142  0.589605 -0.224599  0.321748  1.120050     0\n",
       "B -2.676250  1.266772  1.733482 -1.205823 -2.233132     0\n",
       "C  0.000000  0.000000  0.000000  0.000000  0.000000     0\n",
       "D -1.117618  0.368367  1.227056  1.298034  1.017213     0\n",
       "E  0.341963  0.784688 -0.731119 -0.930502  0.543056     0\n",
       "F -0.214582 -0.486776 -0.430250  2.282368 -0.951841     0"
      ]
     },
     "execution_count": 28,
     "metadata": {},
     "output_type": "execute_result"
    }
   ],
   "source": [
    "## Reindexing Columns \n",
    "\n",
    "dFrame2.reindex(columns=new_columns,fill_value=0)"
   ]
  },
  {
   "cell_type": "code",
   "execution_count": 30,
   "metadata": {
    "collapsed": false
   },
   "outputs": [
    {
     "data": {
      "text/html": [
       "<div>\n",
       "<table border=\"1\" class=\"dataframe\">\n",
       "  <thead>\n",
       "    <tr style=\"text-align: right;\">\n",
       "      <th></th>\n",
       "      <th>col1</th>\n",
       "      <th>col2</th>\n",
       "      <th>col3</th>\n",
       "      <th>col4</th>\n",
       "      <th>col5</th>\n",
       "      <th>col6</th>\n",
       "    </tr>\n",
       "  </thead>\n",
       "  <tbody>\n",
       "    <tr>\n",
       "      <th>A</th>\n",
       "      <td>-0.032142</td>\n",
       "      <td>0.589605</td>\n",
       "      <td>-0.224599</td>\n",
       "      <td>0.321748</td>\n",
       "      <td>1.120050</td>\n",
       "      <td>NaN</td>\n",
       "    </tr>\n",
       "    <tr>\n",
       "      <th>B</th>\n",
       "      <td>-2.676250</td>\n",
       "      <td>1.266772</td>\n",
       "      <td>1.733482</td>\n",
       "      <td>-1.205823</td>\n",
       "      <td>-2.233132</td>\n",
       "      <td>NaN</td>\n",
       "    </tr>\n",
       "    <tr>\n",
       "      <th>C</th>\n",
       "      <td>NaN</td>\n",
       "      <td>NaN</td>\n",
       "      <td>NaN</td>\n",
       "      <td>NaN</td>\n",
       "      <td>NaN</td>\n",
       "      <td>NaN</td>\n",
       "    </tr>\n",
       "    <tr>\n",
       "      <th>D</th>\n",
       "      <td>-1.117618</td>\n",
       "      <td>0.368367</td>\n",
       "      <td>1.227056</td>\n",
       "      <td>1.298034</td>\n",
       "      <td>1.017213</td>\n",
       "      <td>NaN</td>\n",
       "    </tr>\n",
       "    <tr>\n",
       "      <th>E</th>\n",
       "      <td>0.341963</td>\n",
       "      <td>0.784688</td>\n",
       "      <td>-0.731119</td>\n",
       "      <td>-0.930502</td>\n",
       "      <td>0.543056</td>\n",
       "      <td>NaN</td>\n",
       "    </tr>\n",
       "    <tr>\n",
       "      <th>F</th>\n",
       "      <td>-0.214582</td>\n",
       "      <td>-0.486776</td>\n",
       "      <td>-0.430250</td>\n",
       "      <td>2.282368</td>\n",
       "      <td>-0.951841</td>\n",
       "      <td>NaN</td>\n",
       "    </tr>\n",
       "  </tbody>\n",
       "</table>\n",
       "</div>"
      ],
      "text/plain": [
       "       col1      col2      col3      col4      col5  col6\n",
       "A -0.032142  0.589605 -0.224599  0.321748  1.120050   NaN\n",
       "B -2.676250  1.266772  1.733482 -1.205823 -2.233132   NaN\n",
       "C       NaN       NaN       NaN       NaN       NaN   NaN\n",
       "D -1.117618  0.368367  1.227056  1.298034  1.017213   NaN\n",
       "E  0.341963  0.784688 -0.731119 -0.930502  0.543056   NaN\n",
       "F -0.214582 -0.486776 -0.430250  2.282368 -0.951841   NaN"
      ]
     },
     "execution_count": 30,
     "metadata": {},
     "output_type": "execute_result"
    }
   ],
   "source": [
    "## Shortcut to reindex by using ix\n",
    "\n",
    "dFrame.ix[['A','B','C','D','E','F'],new_columns]"
   ]
  },
  {
   "cell_type": "code",
   "execution_count": null,
   "metadata": {
    "collapsed": true
   },
   "outputs": [],
   "source": []
  }
 ],
 "metadata": {
  "kernelspec": {
   "display_name": "Python 2",
   "language": "python",
   "name": "python2"
  },
  "language_info": {
   "codemirror_mode": {
    "name": "ipython",
    "version": 2
   },
   "file_extension": ".py",
   "mimetype": "text/x-python",
   "name": "python",
   "nbconvert_exporter": "python",
   "pygments_lexer": "ipython2",
   "version": "2.7.10"
  }
 },
 "nbformat": 4,
 "nbformat_minor": 0
}
